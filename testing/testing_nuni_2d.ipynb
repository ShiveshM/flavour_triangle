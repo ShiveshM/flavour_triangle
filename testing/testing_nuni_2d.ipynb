{
 "cells": [
  {
   "cell_type": "code",
   "execution_count": 1,
   "metadata": {
    "collapsed": true
   },
   "outputs": [],
   "source": [
    "import numpy as np\n",
    "import scipy.linalg"
   ]
  },
  {
   "cell_type": "code",
   "execution_count": 18,
   "metadata": {
    "collapsed": false
   },
   "outputs": [
    {
     "name": "stdout",
     "output_type": "stream",
     "text": [
      "[[ 0.40593042+0.53913577j  0.49310762+0.45040684j]\n",
      " [ 0.49794128+0.50544739j  0.46576143+0.55265431j]]\n"
     ]
    }
   ],
   "source": [
    "z = np.random.normal(loc=0.5, scale=0.05, size=(2, 2))\n",
    "im = np.random.normal(loc=0.5, scale=0.05, size=(2, 2))\n",
    "z = z + im*1j\n",
    "print z"
   ]
  },
  {
   "cell_type": "code",
   "execution_count": 19,
   "metadata": {
    "collapsed": true
   },
   "outputs": [],
   "source": [
    "def test_uni(x):\n",
    "    return abs(np.dot(x, x.conj().T))"
   ]
  },
  {
   "cell_type": "code",
   "execution_count": 20,
   "metadata": {
    "collapsed": false
   },
   "outputs": [
    {
     "name": "stdout",
     "output_type": "stream",
     "text": [
      "[[ 0.90146833  0.95322423]\n",
      " [ 0.95322423  1.02578309]]\n"
     ]
    }
   ],
   "source": [
    "print test_uni(z)"
   ]
  },
  {
   "cell_type": "code",
   "execution_count": 21,
   "metadata": {
    "collapsed": true
   },
   "outputs": [],
   "source": [
    "def make_unitary(x):\n",
    "    q, r = scipy.linalg.qr(z)\n",
    "    d = r.diagonal()\n",
    "    x_u = q * d/abs(d)\n",
    "    return x_u, q, r"
   ]
  },
  {
   "cell_type": "code",
   "execution_count": 22,
   "metadata": {
    "collapsed": false
   },
   "outputs": [
    {
     "name": "stdout",
     "output_type": "stream",
     "text": [
      "[[ 0.41454516+0.55057743j  0.50058515-0.52386192j]\n",
      " [ 0.50850870+0.51617411j -0.40610834+0.55682961j]]\n",
      "[[ 0.68919025  0.72458043]\n",
      " [ 0.72458043  0.68919025]]\n"
     ]
    }
   ],
   "source": [
    "z_u, q, r = make_unitary(z)\n",
    "print z_u\n",
    "print abs(z_u)"
   ]
  },
  {
   "cell_type": "code",
   "execution_count": 23,
   "metadata": {
    "collapsed": false
   },
   "outputs": [
    {
     "name": "stdout",
     "output_type": "stream",
     "text": [
      "1.0\n",
      "1.0\n",
      "1.0\n",
      "1.0\n",
      "[[  1.00000000e+00   2.28036972e-16]\n",
      " [  2.28036972e-16   1.00000000e+00]]\n"
     ]
    }
   ],
   "source": [
    "for y in z_u:\n",
    "    print np.sum(map(lambda x: abs(x)**2, y))\n",
    "for y in z_u.T:\n",
    "    print np.sum(map(lambda x: abs(x)**2, y))\n",
    "print test_uni(z_u)"
   ]
  },
  {
   "cell_type": "code",
   "execution_count": 17,
   "metadata": {
    "collapsed": false
   },
   "outputs": [
    {
     "name": "stdout",
     "output_type": "stream",
     "text": [
      "[[-0.54168806-0.49414802j  0.20106567+0.64958785j]\n",
      " [-0.52174718-0.43608676j -0.24694065-0.6903829j ]] \n",
      "\n",
      "[[-0.98688160+0.j         -0.99197891-0.01011679j]\n",
      " [ 0.00000000+0.j         -0.04999857+0.j        ]] \n",
      "\n",
      "[[ 0.73321772  0.67999395]\n",
      " [ 0.67999395  0.73321772]] \n",
      "\n",
      "[[ 0.9868816   0.9920305 ]\n",
      " [ 0.          0.04999857]] \n",
      "\n"
     ]
    }
   ],
   "source": [
    "print q, '\\n'\n",
    "print r, '\\n'\n",
    "print abs(q), '\\n'\n",
    "print abs(r), '\\n'"
   ]
  },
  {
   "cell_type": "code",
   "execution_count": 24,
   "metadata": {
    "collapsed": false
   },
   "outputs": [
    {
     "name": "stdout",
     "output_type": "stream",
     "text": [
      "[[-0.41454516-0.55057743j  0.50058515-0.52386192j]\n",
      " [-0.50850870-0.51617411j -0.40610834+0.55682961j]] \n",
      "\n",
      "[[-0.97921881+0.j         -0.97450880+0.04416442j]\n",
      " [ 0.00000000+0.j          0.12947604+0.j        ]] \n",
      "\n",
      "[[ 0.68919025  0.72458043]\n",
      " [ 0.72458043  0.68919025]] \n",
      "\n",
      "[[ 0.97921881  0.97550905]\n",
      " [ 0.          0.12947604]] \n",
      "\n"
     ]
    }
   ],
   "source": [
    "print q, '\\n'\n",
    "print r, '\\n'\n",
    "print abs(q), '\\n'\n",
    "print abs(r), '\\n'"
   ]
  },
  {
   "cell_type": "code",
   "execution_count": null,
   "metadata": {
    "collapsed": true
   },
   "outputs": [],
   "source": []
  }
 ],
 "metadata": {
  "anaconda-cloud": {},
  "kernelspec": {
   "display_name": "Python [conda root]",
   "language": "python",
   "name": "conda-root-py"
  },
  "language_info": {
   "codemirror_mode": {
    "name": "ipython",
    "version": 2
   },
   "file_extension": ".py",
   "mimetype": "text/x-python",
   "name": "python",
   "nbconvert_exporter": "python",
   "pygments_lexer": "ipython2",
   "version": "2.7.12"
  }
 },
 "nbformat": 4,
 "nbformat_minor": 1
}
