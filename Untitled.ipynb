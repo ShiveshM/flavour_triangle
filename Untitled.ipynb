{
 "cells": [
  {
   "cell_type": "code",
   "execution_count": 1,
   "metadata": {
    "collapsed": true
   },
   "outputs": [],
   "source": [
    "import numpy as np\n",
    "import scipy.linalg"
   ]
  },
  {
   "cell_type": "code",
   "execution_count": 2,
   "metadata": {
    "collapsed": false
   },
   "outputs": [
    {
     "name": "stdout",
     "output_type": "stream",
     "text": [
      "[[ 0.82  0.55  0.15]\n",
      " [ 0.38  0.54  0.75]\n",
      " [ 0.41  0.63  0.64]]\n"
     ]
    }
   ],
   "source": [
    "mod_u = np.array([[0.82, 0.55, 0.15], [0.38, 0.54, 0.75], [0.41, 0.63, 0.64]])\n",
    "print mod_u"
   ]
  },
  {
   "cell_type": "code",
   "execution_count": 3,
   "metadata": {
    "collapsed": true
   },
   "outputs": [],
   "source": [
    "def test_uni(x):\n",
    "    return abs(np.dot(x, x.conj().T))"
   ]
  },
  {
   "cell_type": "code",
   "execution_count": 4,
   "metadata": {
    "collapsed": false
   },
   "outputs": [
    {
     "name": "stdout",
     "output_type": "stream",
     "text": [
      "[[ 0.9974  0.7211  0.7787]\n",
      " [ 0.7211  0.9985  0.976 ]\n",
      " [ 0.7787  0.976   0.9746]]\n"
     ]
    }
   ],
   "source": [
    "print test_uni(mod_u)"
   ]
  },
  {
   "cell_type": "code",
   "execution_count": 5,
   "metadata": {
    "collapsed": true
   },
   "outputs": [],
   "source": [
    "nuni = 0.9"
   ]
  },
  {
   "cell_type": "code",
   "execution_count": 6,
   "metadata": {
    "collapsed": false
   },
   "outputs": [],
   "source": [
    "z = []\n",
    "for y in mod_u:\n",
    "    z += [x for x in y]\n",
    "    z.append(np.sqrt(nuni + 0*1j - np.sum(map(lambda x: x**2, y))))\n",
    "for y in mod_u.T:\n",
    "    z.append(np.sqrt(nuni + 0*1j - np.sum(map(lambda x: x**2, y))))\n",
    "z.append(np.sqrt(nuni - (z[12]**2 + z[13]**2 + z[14]**2)))\n",
    "z = np.array(z).reshape(4, 4)"
   ]
  },
  {
   "cell_type": "code",
   "execution_count": 7,
   "metadata": {
    "collapsed": true
   },
   "outputs": [],
   "source": [
    "def make_unitary(x):\n",
    "    q, r = scipy.linalg.qr(z)\n",
    "    d = r.diagonal()\n",
    "    q *= d/abs(d)\n",
    "    return q"
   ]
  },
  {
   "cell_type": "code",
   "execution_count": 8,
   "metadata": {
    "collapsed": false
   },
   "outputs": [
    {
     "name": "stdout",
     "output_type": "stream",
     "text": [
      "[[ 0.79279802-0.j         -0.57786057+0.j         -0.09590712+0.j\n",
      "   0.00000000+0.16837545j]\n",
      " [ 0.36739420+0.j          0.48683180-0.j          0.71256582+0.j\n",
      "   0.00000000+0.34679425j]\n",
      " [ 0.39639901+0.j          0.65063399-0.j         -0.64771701+0.j\n",
      "   0.00000000-0.00243085j]\n",
      " [ 0.00000000+0.28171018j  0.00000000+0.07581147j  0.00000000+0.25202072j\n",
      "   0.92270122+0.j        ]]\n",
      "[[ 0.79279802  0.57786057  0.09590712  0.16837545]\n",
      " [ 0.3673942   0.4868318   0.71256582  0.34679425]\n",
      " [ 0.39639901  0.65063399  0.64771701  0.00243085]\n",
      " [ 0.28171018  0.07581147  0.25202072  0.92270122]]\n"
     ]
    }
   ],
   "source": [
    "z_u = make_unitary(z)\n",
    "print z_u\n",
    "print abs(z_u)"
   ]
  },
  {
   "cell_type": "code",
   "execution_count": 9,
   "metadata": {
    "collapsed": false
   },
   "outputs": [
    {
     "name": "stdout",
     "output_type": "stream",
     "text": [
      "1.0\n",
      "1.0\n",
      "1.0\n",
      "1.0\n",
      "1.0\n",
      "1.0\n",
      "1.0\n",
      "1.0\n",
      "[[  1.00000000e+00   1.38777878e-17   1.39862080e-17   0.00000000e+00]\n",
      " [  1.38777878e-17   1.00000000e+00   2.38524478e-18   5.55111512e-17]\n",
      " [  1.39862080e-17   2.38524478e-18   1.00000000e+00   5.85469173e-17]\n",
      " [  0.00000000e+00   5.55111512e-17   5.85469173e-17   1.00000000e+00]]\n"
     ]
    }
   ],
   "source": [
    "for y in z_u:\n",
    "    print np.sum(map(lambda x: abs(x)**2, y))\n",
    "for y in z_u.T:\n",
    "    print np.sum(map(lambda x: abs(x)**2, y))\n",
    "print test_uni(z_u)"
   ]
  },
  {
   "cell_type": "code",
   "execution_count": 10,
   "metadata": {
    "collapsed": false
   },
   "outputs": [
    {
     "name": "stdout",
     "output_type": "stream",
     "text": [
      "0.971649707734\n",
      "0.879733748536\n",
      "0.999994090947\n",
      "0.920639371845\n",
      "0.994252620688\n",
      "0.936485554683\n",
      "[[  9.71649708e-01   5.83916379e-02   4.09296201e-04]\n",
      " [  5.83916379e-02   8.79733749e-01   8.43006320e-04]\n",
      " [  4.09296201e-04   8.43006320e-04   9.99994091e-01]]\n"
     ]
    }
   ],
   "source": [
    "for y in z_u[:-1, :-1]:\n",
    "    print np.sum(map(lambda x: abs(x)**2, y))\n",
    "for y in z_u[:-1, :-1].T:\n",
    "    print np.sum(map(lambda x: abs(x)**2, y))\n",
    "print test_uni(z_u[:-1, :-1])"
   ]
  },
  {
   "cell_type": "code",
   "execution_count": null,
   "metadata": {
    "collapsed": true
   },
   "outputs": [],
   "source": []
  }
 ],
 "metadata": {
  "anaconda-cloud": {},
  "kernelspec": {
   "display_name": "Python [conda root]",
   "language": "python",
   "name": "conda-root-py"
  },
  "language_info": {
   "codemirror_mode": {
    "name": "ipython",
    "version": 2
   },
   "file_extension": ".py",
   "mimetype": "text/x-python",
   "name": "python",
   "nbconvert_exporter": "python",
   "pygments_lexer": "ipython2",
   "version": "2.7.12"
  }
 },
 "nbformat": 4,
 "nbformat_minor": 1
}
