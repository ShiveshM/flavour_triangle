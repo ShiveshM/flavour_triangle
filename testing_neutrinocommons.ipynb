{
 "cells": [
  {
   "cell_type": "code",
   "execution_count": 13,
   "metadata": {
    "collapsed": false
   },
   "outputs": [],
   "source": [
    "import numpy as np\n",
    "import neutrinocommon.physconst.physicsconstants as PC\n",
    "from neutrinocommon.neu import neuosc"
   ]
  },
  {
   "cell_type": "code",
   "execution_count": 14,
   "metadata": {
    "collapsed": true
   },
   "outputs": [],
   "source": [
    "pc = PC.PhysicsConstants()"
   ]
  },
  {
   "cell_type": "code",
   "execution_count": 17,
   "metadata": {
    "collapsed": true
   },
   "outputs": [],
   "source": [
    "def deg_to_rad(x):\n",
    "    return x / 180. * np.pi"
   ]
  },
  {
   "cell_type": "code",
   "execution_count": 32,
   "metadata": {
    "collapsed": true
   },
   "outputs": [],
   "source": [
    "pc.th12 = deg_to_rad(33.56)\n",
    "pc.th23 = deg_to_rad(41.6)\n",
    "pc.th13 = deg_to_rad(8.46)\n",
    "pc.deltaCP = 261\n",
    "\n",
    "pc.numneu = 4\n",
    "pc.th14 = deg_to_rad(40)\n",
    "pc.th24 = deg_to_rad(20)\n",
    "pc.th34 = deg_to_rad(20)\n",
    "pc.dm41sq = 1e-2\n",
    "\n",
    "pc.Refresh()"
   ]
  },
  {
   "cell_type": "code",
   "execution_count": 33,
   "metadata": {
    "collapsed": false
   },
   "outputs": [
    {
     "name": "stdout",
     "output_type": "stream",
     "text": [
      "[[  6.31404475e-01+0.j           4.18869039e-01+0.j\n",
      "   -5.75152614e-13-0.11269962j   6.42787610e-01+0.j        ]\n",
      " [ -5.69665851e-01-0.07648554j   4.65354587e-01-0.05073994j\n",
      "    6.17097936e-01+0.03234355j   2.62002630e-01+0.j        ]\n",
      " [  2.22970095e-01-0.07662643j  -7.05744670e-01-0.0508334j\n",
      "    6.18234603e-01+0.030393j     2.46201938e-01+0.j        ]\n",
      " [ -4.60504009e-01+0.05751481j  -3.21409278e-01+0.0381549j\n",
      "   -4.64038940e-01+0.08350407j   6.76434266e-01+0.j        ]]\n"
     ]
    }
   ],
   "source": [
    "mm = neuosc.MixMatrix(pc)\n",
    "print mm.U"
   ]
  },
  {
   "cell_type": "code",
   "execution_count": 34,
   "metadata": {
    "collapsed": false
   },
   "outputs": [
    {
     "name": "stdout",
     "output_type": "stream",
     "text": [
      "(4, 4)\n",
      "[[ 0.63140448  0.41886904  0.11269962  0.64278761]\n",
      " [ 0.57477754  0.46811263  0.61794496  0.26200263]\n",
      " [ 0.23576953  0.70757302  0.61898123  0.24620194]\n",
      " [ 0.46408178  0.32366606  0.47149238  0.67643427]]\n",
      "[[  1.00000000e+00   5.56194658e-17   1.38777878e-17   5.56194658e-17]\n",
      " [  5.56194658e-17   1.00000000e+00   1.67110694e-16   3.26162902e-17]\n",
      " [  1.38777878e-17   1.67110694e-16   1.00000000e+00   5.55111512e-17]\n",
      " [  5.56194658e-17   3.20601351e-17   5.55111512e-17   1.00000000e+00]]\n"
     ]
    }
   ],
   "source": [
    "print mm.U.shape\n",
    "print abs(mm.U)\n",
    "print abs(np.dot(mm.U, mm.U.conj().T))"
   ]
  },
  {
   "cell_type": "code",
   "execution_count": null,
   "metadata": {
    "collapsed": true
   },
   "outputs": [],
   "source": []
  }
 ],
 "metadata": {
  "anaconda-cloud": {},
  "kernelspec": {
   "display_name": "Python [conda root]",
   "language": "python",
   "name": "conda-root-py"
  },
  "language_info": {
   "codemirror_mode": {
    "name": "ipython",
    "version": 2
   },
   "file_extension": ".py",
   "mimetype": "text/x-python",
   "name": "python",
   "nbconvert_exporter": "python",
   "pygments_lexer": "ipython2",
   "version": "2.7.12"
  }
 },
 "nbformat": 4,
 "nbformat_minor": 1
}
